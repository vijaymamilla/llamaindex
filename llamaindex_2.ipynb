{
  "nbformat": 4,
  "nbformat_minor": 0,
  "metadata": {
    "colab": {
      "provenance": [],
      "authorship_tag": "ABX9TyP/D9zNxvX6B416KE5Qy4nj",
      "include_colab_link": true
    },
    "kernelspec": {
      "name": "python3",
      "display_name": "Python 3"
    },
    "language_info": {
      "name": "python"
    }
  },
  "cells": [
    {
      "cell_type": "markdown",
      "metadata": {
        "id": "view-in-github",
        "colab_type": "text"
      },
      "source": [
        "<a href=\"https://colab.research.google.com/github/vijaymamilla/llamaindex/blob/main/llamaindex_2.ipynb\" target=\"_parent\"><img src=\"https://colab.research.google.com/assets/colab-badge.svg\" alt=\"Open In Colab\"/></a>"
      ]
    },
    {
      "cell_type": "code",
      "execution_count": null,
      "metadata": {
        "id": "YdZxqEQ973FG"
      },
      "outputs": [],
      "source": [
        "\n",
        "!pip install llama_index langchain"
      ]
    },
    {
      "cell_type": "code",
      "source": [
        "!pip install llama-hub"
      ],
      "metadata": {
        "id": "7Mr8YmJn8oQ9"
      },
      "execution_count": null,
      "outputs": []
    },
    {
      "cell_type": "code",
      "source": [
        "!pip install sentence-transformers pypdf openai"
      ],
      "metadata": {
        "id": "Cc2VrH0885Qq"
      },
      "execution_count": null,
      "outputs": []
    },
    {
      "cell_type": "code",
      "source": [
        "!pip install weaviate-client  --upgrade\n"
      ],
      "metadata": {
        "id": "KfPsAQg2ClX8"
      },
      "execution_count": null,
      "outputs": []
    },
    {
      "cell_type": "code",
      "source": [
        "import weaviate\n",
        "\n",
        "# Need the latest version of the Weaviate python client (3.21)\n",
        "\n",
        "client = weaviate.Client(embedded_options=weaviate.EmbeddedOptions())"
      ],
      "metadata": {
        "id": "SZ16AWdBi1rc"
      },
      "execution_count": null,
      "outputs": []
    },
    {
      "cell_type": "code",
      "source": [
        "!wget https://github.com/vijaymamilla/llamaindex/blob/main/Uber-Q3-23-Earnings-Press-Release.pdf\n",
        "!mkdir data\n",
        "!mv Uber-Q3-23-Earnings-Press-Release.pdf data"
      ],
      "metadata": {
        "id": "i0D9wLINkcYc"
      },
      "execution_count": null,
      "outputs": []
    },
    {
      "cell_type": "code",
      "source": [
        "from langchain.embeddings.huggingface import HuggingFaceEmbeddings\n",
        "from llama_index.embeddings import LangchainEmbedding\n",
        "embed_model = LangchainEmbedding(\n",
        "    HuggingFaceEmbeddings(model_name=\"sentence-transformers/all-mpnet-base-v2\")\n",
        ")"
      ],
      "metadata": {
        "id": "vXYF50u-9bdT"
      },
      "execution_count": null,
      "outputs": []
    },
    {
      "cell_type": "code",
      "source": [
        "from llama_index import VectorStoreIndex, SimpleDirectoryReader, StorageContext, load_index_from_storage, ServiceContext\n",
        "\n",
        "documents = SimpleDirectoryReader('./data').load_data()\n"
      ],
      "metadata": {
        "id": "IYTSdzqI9vF5"
      },
      "execution_count": null,
      "outputs": []
    },
    {
      "cell_type": "code",
      "source": [
        "import sys\n",
        "import os"
      ],
      "metadata": {
        "id": "XdNeisPq_xGD"
      },
      "execution_count": null,
      "outputs": []
    },
    {
      "cell_type": "code",
      "source": [
        "from langchain import OpenAI\n",
        "os.environ[\"OPENAI_API_KEY\"] = \"\""
      ],
      "metadata": {
        "id": "LZvjA4Ul_chM"
      },
      "execution_count": null,
      "outputs": []
    },
    {
      "cell_type": "code",
      "source": [],
      "metadata": {
        "id": "-4kcS0nyJoDr"
      },
      "execution_count": null,
      "outputs": []
    },
    {
      "cell_type": "code",
      "source": [
        "service_context = ServiceContext.from_defaults(embed_model=embed_model)\n",
        "\n",
        "index = VectorStoreIndex.from_documents(documents, service_context=service_context)\n",
        "index.storage_context.persist(persist_dir='./storage/cache/stateofunion')"
      ],
      "metadata": {
        "id": "WU9bDUnw98uw"
      },
      "execution_count": null,
      "outputs": []
    },
    {
      "cell_type": "code",
      "source": [
        "query_engine = index.as_query_engine()\n",
        "response = query_engine.query(\"Diplomacy\")\n",
        "print(response)"
      ],
      "metadata": {
        "colab": {
          "base_uri": "https://localhost:8080/"
        },
        "id": "gTUsewY4_Kut",
        "outputId": "8dfe00fe-4857-42b1-bfce-ada9d1c6ae6c"
      },
      "execution_count": null,
      "outputs": [
        {
          "output_type": "stream",
          "name": "stdout",
          "text": [
            "American diplomacy matters. In the context provided, it is mentioned that the United States spent months building a coalition of other freedom-loving nations to confront Russia's aggression towards Ukraine. The United States also shared information with the world in advance about Russia's plans and countered their lies with truth. Additionally, the United States is enforcing powerful economic sanctions and cutting off Russia's access to technology. This demonstrates the importance and effectiveness of American diplomacy in addressing international conflicts and promoting peace and stability.\n"
          ]
        }
      ]
    },
    {
      "cell_type": "code",
      "source": [],
      "metadata": {
        "id": "si1ocGCHEqNd"
      },
      "execution_count": null,
      "outputs": []
    }
  ]
}